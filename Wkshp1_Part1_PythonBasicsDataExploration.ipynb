{
 "cells": [
  {
   "cell_type": "markdown",
   "metadata": {},
   "source": [
    "## Getting started"
   ]
  },
  {
   "cell_type": "markdown",
   "metadata": {},
   "source": [
    "Before we begin, let's cover a few basics about Jupyter (also known as iPython) notebooks. This is a markdown cell. Select a cell (a blue boundary should appear around the cell; you're in command mode) and press Enter on your keyboard to see it in editing mode (the cell boundary turns green in color). To switch back to command mode, press Esc. To run the cell, and go to the next cell, press Shift+Enter. If you want to run the cell without advancing to the next, press Ctrl+Enter.\n",
    "\n",
    "To create a new cell below the current one, switch to command mode and then press the letter \"b\" on your keyboard. \"a\" will create a new cell above the current cell. \"dd\" will delete the current cell."
   ]
  },
  {
   "cell_type": "markdown",
   "metadata": {},
   "source": [
    "### Variable assignment, basic calculations, and data types"
   ]
  },
  {
   "cell_type": "code",
   "execution_count": null,
   "metadata": {
    "collapsed": true
   },
   "outputs": [],
   "source": [
    "## CODE CELL 1\n",
    "# This is a comment. Comments will not appear in the output when a cell is run.\n",
    "\n",
    "a = 45    # assigning the value 45 to the letter \"a\"\n",
    "print(a)"
   ]
  },
  {
   "cell_type": "markdown",
   "metadata": {},
   "source": [
    "As you may have guessed, the `print()` function displays the value of the argument that's passed to it (e.g. whatever is inside the parentheses)."
   ]
  },
  {
   "cell_type": "code",
   "execution_count": null,
   "metadata": {
    "collapsed": true
   },
   "outputs": [],
   "source": [
    "## CODE CELL 2\n",
    "# Let's assign a couple more variables \n",
    "\n",
    "b = 12\n",
    "c = a + b\n",
    "print(c)"
   ]
  },
  {
   "cell_type": "code",
   "execution_count": null,
   "metadata": {
    "collapsed": true
   },
   "outputs": [],
   "source": [
    "## CODE CELL 3\n",
    "# Let's increment \"c\" by 2\n",
    "\n",
    "print('c =', c)\n",
    "c = c + 2\n",
    "print('c + 2 =', c)"
   ]
  },
  {
   "cell_type": "markdown",
   "metadata": {},
   "source": [
    "Try running the previous cell again. What happens?"
   ]
  },
  {
   "cell_type": "code",
   "execution_count": null,
   "metadata": {
    "collapsed": true
   },
   "outputs": [],
   "source": [
    "## CODE CELL 4\n",
    "# Another useful method to increment\n",
    "\n",
    "print('c =', c)\n",
    "c += 2\n",
    "print('Now c =', c)"
   ]
  },
  {
   "cell_type": "markdown",
   "metadata": {},
   "source": [
    "Decrementing works similarly (the operator is `-=`)\n",
    "Other useful operations:\n",
    "\n",
    "- subtraction: `a - b`\n",
    "- multiplication: `a * b`\n",
    "- division: `a / b`\n",
    "- floor division (the integer part, or quotient, of a division operation): `a // b`\n",
    "- modulo (remainder): `a % b`"
   ]
  },
  {
   "cell_type": "code",
   "execution_count": null,
   "metadata": {
    "collapsed": true
   },
   "outputs": [],
   "source": [
    "## CODE CELL 5\n",
    "# Some of the above in action\n",
    "\n",
    "div = a/b\n",
    "print('a / b is', div)\n",
    "floor = a//b\n",
    "print('a // b is', floor)\n",
    "mod = a%b\n",
    "print('a % b is', mod)"
   ]
  },
  {
   "cell_type": "markdown",
   "metadata": {},
   "source": [
    "So far, you've seen three data types: strings, integers, and floats. We can use the function `type()` to find out what data type a value or variable represents."
   ]
  },
  {
   "cell_type": "code",
   "execution_count": null,
   "metadata": {
    "collapsed": true
   },
   "outputs": [],
   "source": [
    "## CODE CELL 6\n",
    "\n",
    "type(3.75)      # this is a float"
   ]
  },
  {
   "cell_type": "code",
   "execution_count": null,
   "metadata": {
    "collapsed": true
   },
   "outputs": [],
   "source": [
    "## CODE CELL 7\n",
    "\n",
    "type(3)     # this is an integer"
   ]
  },
  {
   "cell_type": "code",
   "execution_count": null,
   "metadata": {
    "collapsed": true,
    "scrolled": true
   },
   "outputs": [],
   "source": [
    "## CODE CELL 8\n",
    "\n",
    "type('This is a string.')      # this is a string"
   ]
  },
  {
   "cell_type": "code",
   "execution_count": null,
   "metadata": {
    "collapsed": true
   },
   "outputs": [],
   "source": [
    "## CODE CELL 9\n",
    "\n",
    "type(\"This is also a string.\")     # double quotes or single quotes can be used"
   ]
  },
  {
   "cell_type": "markdown",
   "metadata": {},
   "source": [
    "The `math` module is part of the standard library and has a lot of useful functions. To use it, we need to import it into this notebook."
   ]
  },
  {
   "cell_type": "code",
   "execution_count": null,
   "metadata": {
    "collapsed": true
   },
   "outputs": [],
   "source": [
    "## CODE CELL 10\n",
    "\n",
    "import math\n",
    "\n",
    "math.sqrt(9)"
   ]
  },
  {
   "cell_type": "code",
   "execution_count": null,
   "metadata": {
    "collapsed": true
   },
   "outputs": [],
   "source": [
    "## CODE CELL 11\n",
    "\n",
    "math.pi"
   ]
  },
  {
   "cell_type": "markdown",
   "metadata": {},
   "source": [
    "To learn more about the various functions belonging to the `math` module, call the `help()` function on it. Alternatively, you can read the online documentation for this module here: https://docs.python.org/3/library/math.html. This applies to any module, class, function, etc. that you may want more information on."
   ]
  },
  {
   "cell_type": "code",
   "execution_count": null,
   "metadata": {
    "collapsed": true
   },
   "outputs": [],
   "source": [
    "## CODE CELL 12\n",
    "\n",
    "help(math)"
   ]
  },
  {
   "cell_type": "markdown",
   "metadata": {
    "collapsed": true
   },
   "source": [
    "To convert a number from a float into an integer, use the function `int()`:"
   ]
  },
  {
   "cell_type": "code",
   "execution_count": null,
   "metadata": {
    "collapsed": true,
    "scrolled": true
   },
   "outputs": [],
   "source": [
    "## CODE CELL 13\n",
    "\n",
    "int(6.0)"
   ]
  },
  {
   "cell_type": "markdown",
   "metadata": {},
   "source": [
    "Conversely, you can convert an integer into a float using `float()`:"
   ]
  },
  {
   "cell_type": "code",
   "execution_count": null,
   "metadata": {
    "collapsed": true
   },
   "outputs": [],
   "source": [
    "## CODE CELL 14\n",
    "\n",
    "float(6)"
   ]
  },
  {
   "cell_type": "markdown",
   "metadata": {},
   "source": [
    "What if we have a number in string format?"
   ]
  },
  {
   "cell_type": "code",
   "execution_count": null,
   "metadata": {
    "collapsed": true
   },
   "outputs": [],
   "source": [
    "## CODE CELL 15\n",
    "# This doesn't work\n",
    "\n",
    "'6.5'+7"
   ]
  },
  {
   "cell_type": "code",
   "execution_count": null,
   "metadata": {
    "collapsed": true
   },
   "outputs": [],
   "source": [
    "## CODE CELL 16\n",
    "# This works\n",
    "\n",
    "float('6.5')+7"
   ]
  },
  {
   "cell_type": "markdown",
   "metadata": {},
   "source": [
    "If we want to convert an integer or float to a string, we can use the function `str()`:"
   ]
  },
  {
   "cell_type": "code",
   "execution_count": null,
   "metadata": {
    "collapsed": true
   },
   "outputs": [],
   "source": [
    "## CODE CELL 17\n",
    "\n",
    "str(100)"
   ]
  },
  {
   "cell_type": "markdown",
   "metadata": {},
   "source": [
    "### Strings: cleaning and manipulation"
   ]
  },
  {
   "cell_type": "markdown",
   "metadata": {},
   "source": [
    "Indexing in Python starts from 0. That means that the first element of any string, list, array, etc. is actually considered to be element # 0."
   ]
  },
  {
   "cell_type": "code",
   "execution_count": null,
   "metadata": {
    "collapsed": true
   },
   "outputs": [],
   "source": [
    "## CODE CELL 18\n",
    "\n",
    "myString = 'Rutgers is one of the top 10 oldest colleges in the U.S.'"
   ]
  },
  {
   "cell_type": "markdown",
   "metadata": {},
   "source": [
    "Accessing characters in the string:"
   ]
  },
  {
   "cell_type": "code",
   "execution_count": null,
   "metadata": {
    "collapsed": true
   },
   "outputs": [],
   "source": [
    "## CODE CELL 19\n",
    "\n",
    "myString[0]"
   ]
  },
  {
   "cell_type": "code",
   "execution_count": null,
   "metadata": {
    "collapsed": true
   },
   "outputs": [],
   "source": [
    "## CODE CELL 20\n",
    "\n",
    "myString[1]"
   ]
  },
  {
   "cell_type": "markdown",
   "metadata": {},
   "source": [
    "You can also access characters with reference to the end of the string:"
   ]
  },
  {
   "cell_type": "code",
   "execution_count": null,
   "metadata": {
    "collapsed": true
   },
   "outputs": [],
   "source": [
    "## CODE CELL 21\n",
    "\n",
    "myString[-1]"
   ]
  },
  {
   "cell_type": "code",
   "execution_count": null,
   "metadata": {
    "collapsed": true
   },
   "outputs": [],
   "source": [
    "## CODE CELL 22\n",
    "\n",
    "myString[-2]"
   ]
  },
  {
   "cell_type": "markdown",
   "metadata": {},
   "source": [
    "To access larger portions (called \"slices\") of the string, we can use the following syntax: $string[startIndex:endIndex:stepSize]$. The string returned will start from the character at index $startIndex$, but it will end with the character at index $endIndex-1$. If not specified, $stepSize$ = 1, $startIndex$ = 0, and $endIndex$ = one beyond the last index.\n",
    "For example,"
   ]
  },
  {
   "cell_type": "code",
   "execution_count": null,
   "metadata": {
    "collapsed": true
   },
   "outputs": [],
   "source": [
    "## CODE CELL 23\n",
    "\n",
    "myString[5:11]"
   ]
  },
  {
   "cell_type": "code",
   "execution_count": null,
   "metadata": {
    "collapsed": true
   },
   "outputs": [],
   "source": [
    "## CODE CELL 24\n",
    "\n",
    "myString[1:11:2]"
   ]
  },
  {
   "cell_type": "code",
   "execution_count": null,
   "metadata": {
    "collapsed": true
   },
   "outputs": [],
   "source": [
    "## CODE CELL 25\n",
    "\n",
    "myString[:11]"
   ]
  },
  {
   "cell_type": "code",
   "execution_count": null,
   "metadata": {
    "collapsed": true
   },
   "outputs": [],
   "source": [
    "## CODE CELL 26\n",
    "\n",
    "myString[11:]"
   ]
  },
  {
   "cell_type": "code",
   "execution_count": null,
   "metadata": {
    "collapsed": true
   },
   "outputs": [],
   "source": [
    "## CODE CELL 27\n",
    "\n",
    "myString[:]"
   ]
  },
  {
   "cell_type": "markdown",
   "metadata": {},
   "source": [
    "What do you think this will yield?"
   ]
  },
  {
   "cell_type": "code",
   "execution_count": null,
   "metadata": {
    "collapsed": true
   },
   "outputs": [],
   "source": [
    "## CODE CELL 28\n",
    "\n",
    "myString[-3:11:-1]"
   ]
  },
  {
   "cell_type": "markdown",
   "metadata": {},
   "source": [
    "Let's look at other useful string operations."
   ]
  },
  {
   "cell_type": "code",
   "execution_count": null,
   "metadata": {
    "collapsed": true
   },
   "outputs": [],
   "source": [
    "## CODE CELL 29\n",
    "# How long is the string?\n",
    "\n",
    "len(myString)"
   ]
  },
  {
   "cell_type": "code",
   "execution_count": null,
   "metadata": {
    "collapsed": true
   },
   "outputs": [],
   "source": [
    "## CODE CELL 30\n",
    "# Concatenation\n",
    "\n",
    "myString2 = '; it was originally \"Queen\\'s College\".'\n",
    "print(myString + myString2)"
   ]
  },
  {
   "cell_type": "markdown",
   "metadata": {},
   "source": [
    "**Exercise 1:**\n",
    "\n",
    "Take the following two \"sentences\": (1) Next bus: 7 minutes. (2) Travel time on bus: 5 minutes. Using string indexing, extract the number of minutes for each activity, add the two numbers to get the total time (variable *total*), and print the following message using concatentation: \"Next bus: 7 minutes. Travel time on bus: 5 minutes. Total time to destination: *total*\".\n",
    "\n",
    "*Hint: You will have to do at least one data type conversion.*"
   ]
  },
  {
   "cell_type": "markdown",
   "metadata": {},
   "source": [
    "**Answer 1:**"
   ]
  },
  {
   "cell_type": "code",
   "execution_count": null,
   "metadata": {
    "collapsed": true
   },
   "outputs": [],
   "source": [
    "## CODE CELL 31\n",
    "\n",
    "sentence1 = 'Next bus: 7 minutes.'\n",
    "sentence2 = 'Travel time on bus: 5 minutes.'\n",
    "sentence3 = 'Total time to destination:'\n",
    "\n",
    "## ENTER CODE HERE \n",
    "\n"
   ]
  },
  {
   "cell_type": "markdown",
   "metadata": {},
   "source": [
    "\n",
    "\n",
    "There's a lot you can do with strings! Let's go through a few useful methods:"
   ]
  },
  {
   "cell_type": "code",
   "execution_count": null,
   "metadata": {
    "collapsed": true
   },
   "outputs": [],
   "source": [
    "## CODE CELL 32\n",
    "# Converting to all lower case\n",
    "\n",
    "new = 'RU'\n",
    "new.lower()"
   ]
  },
  {
   "cell_type": "code",
   "execution_count": null,
   "metadata": {
    "collapsed": true
   },
   "outputs": [],
   "source": [
    "## CODE CELL 33\n",
    "# Converting to all upper case\n",
    "\n",
    "new.lower().upper()"
   ]
  },
  {
   "cell_type": "markdown",
   "metadata": {},
   "source": [
    "Notice that you can use multiple methods in the same line; in the above cell, the method `str.upper()` is executed on the string to the left of the dot before `upper()`, which in this case is `new.lower()`."
   ]
  },
  {
   "cell_type": "code",
   "execution_count": null,
   "metadata": {
    "collapsed": true
   },
   "outputs": [],
   "source": [
    "## CODE CELL 34\n",
    "# Removing leading and trailing characters\n",
    "\n",
    "s = 'aaaabcccHow are you doing?aayzz'\n",
    "s.strip('abcyz')"
   ]
  },
  {
   "cell_type": "code",
   "execution_count": null,
   "metadata": {
    "collapsed": true
   },
   "outputs": [],
   "source": [
    "## CODE CELL 35\n",
    "# Removing leading and trailing whitespace\n",
    "\n",
    "t = '  Could be worse.  '\n",
    "t.strip()"
   ]
  },
  {
   "cell_type": "code",
   "execution_count": null,
   "metadata": {
    "collapsed": true
   },
   "outputs": [],
   "source": [
    "## CODE CELL 36\n",
    "# Removing leading characters only\n",
    "\n",
    "u = '???How is the family?'\n",
    "u.lstrip('?')"
   ]
  },
  {
   "cell_type": "code",
   "execution_count": null,
   "metadata": {
    "collapsed": true
   },
   "outputs": [],
   "source": [
    "## CODE CELL 37\n",
    "# Removing trailing characters only\n",
    "\n",
    "v = '...Alice twisted her ankle playing basketball on Saturday...'\n",
    "v.rstrip('.')"
   ]
  },
  {
   "cell_type": "code",
   "execution_count": null,
   "metadata": {
    "collapsed": true
   },
   "outputs": [],
   "source": [
    "## CODE CELL 38\n",
    "# Finding the first position(index) of a character \n",
    "\n",
    "v.find('l')"
   ]
  },
  {
   "cell_type": "code",
   "execution_count": null,
   "metadata": {
    "collapsed": true
   },
   "outputs": [],
   "source": [
    "## CODE CELL 39\n",
    "# str.find() can also be used for a substring; it returns the index of the first character in the substring\n",
    "\n",
    "v.find('Alice')"
   ]
  },
  {
   "cell_type": "code",
   "execution_count": null,
   "metadata": {
    "collapsed": true
   },
   "outputs": [],
   "source": [
    "## CODE CELL 40\n",
    "# Replacing all instances of a character or substring\n",
    "\n",
    "y = 'Day 1: Prep. Day 2: Execute. Day 3: Review.'\n",
    "y.replace('Day ', '')"
   ]
  },
  {
   "cell_type": "markdown",
   "metadata": {},
   "source": [
    "Notice that you can remove characters from a string by substituting in an empty string. Strings are immutable; that is, you can't add characters to or remove characters from a string. You can create a new string through concatenation or slicing that has more or fewer characters, **but the original string cannot be altered**. Whenever you apply a method to a string, you're just creating a new string. (You can assign the new string to the original variable and thereby appear to \"change\" the original string, but you are still creating a new string in the process. The original variable simply stores the new string instead of the old string.)"
   ]
  },
  {
   "cell_type": "code",
   "execution_count": null,
   "metadata": {
    "collapsed": true
   },
   "outputs": [],
   "source": [
    "## CODE CELL 41\n",
    "\n",
    "y    # y still has its original value"
   ]
  },
  {
   "cell_type": "code",
   "execution_count": null,
   "metadata": {
    "collapsed": true
   },
   "outputs": [],
   "source": [
    "## CODE CELL 42\n",
    "# To \"save your changes\", assign the new string to a variable\n",
    "\n",
    "new_y = y.replace('Day ', '')\n",
    "new_y"
   ]
  },
  {
   "cell_type": "code",
   "execution_count": null,
   "metadata": {
    "collapsed": true
   },
   "outputs": [],
   "source": [
    "## CODE CELL 43\n",
    "# Splitting a string into a list of words\n",
    "\n",
    "z = 'Once upon a time in a land far, far away...'\n",
    "z.split()"
   ]
  },
  {
   "cell_type": "markdown",
   "metadata": {},
   "source": [
    "** The escape character **\n",
    "\n",
    "Let's look at the following string:"
   ]
  },
  {
   "cell_type": "code",
   "execution_count": null,
   "metadata": {
    "collapsed": true
   },
   "outputs": [],
   "source": [
    "## CODE CELL 44\n",
    "# What happens when you try to print it?\n",
    "\n",
    "print('We will meet at 4 o'clock.')"
   ]
  },
  {
   "cell_type": "markdown",
   "metadata": {},
   "source": [
    "What happened? Essentially, once you start a string with a single quote, Python will take the next single quote it sees as a signal to end the string (and similarly with double quotes). Here, that means that {clock.} is seen as something undefined that is outside the string - and Python does not like this. \n",
    "\n",
    "There are two ways around this. One is to use the \"other\" quotation mark type inside the string - so if you're using single quotes inside the string, use double quotes around the string, and vice versa. The other is \"escaping\" the internal quotation marks by using a backslash (\"\\\") just before the quotation mark like so:"
   ]
  },
  {
   "cell_type": "code",
   "execution_count": null,
   "metadata": {
    "collapsed": true
   },
   "outputs": [],
   "source": [
    "## CODE CELL 45\n",
    "# Python is ok with this\n",
    "\n",
    "print('We will meet at 4 o\\'clock.')"
   ]
  },
  {
   "cell_type": "markdown",
   "metadata": {},
   "source": [
    "This way, we're letting Python know that the internal single quotes should be treated as part of the ongoing string.\n"
   ]
  },
  {
   "cell_type": "markdown",
   "metadata": {},
   "source": [
    "Finally, how can we introduce whitespace characters like tabs into a string? Answer: we use escape sequences."
   ]
  },
  {
   "cell_type": "code",
   "execution_count": null,
   "metadata": {
    "collapsed": true
   },
   "outputs": [],
   "source": [
    "## CODE CELL 46\n",
    "# To introduce a tab character, use \\t\n",
    "\n",
    "score = 'Home:\\t16'\n",
    "print(score)"
   ]
  },
  {
   "cell_type": "code",
   "execution_count": null,
   "metadata": {
    "collapsed": true
   },
   "outputs": [],
   "source": [
    "## CODE CELL 47\n",
    "# To introduce a newline character (similar to pressing Enter on your keyboard), use \\n\n",
    "\n",
    "scores = 'Home:\\t16\\nAway:\\t24'\n",
    "print(scores)"
   ]
  },
  {
   "cell_type": "markdown",
   "metadata": {
    "collapsed": true
   },
   "source": [
    "### Lists: working with a data collection"
   ]
  },
  {
   "cell_type": "markdown",
   "metadata": {},
   "source": [
    "Many of the operations we used with strings can be applied to lists as well, including\n",
    "- indexing\n",
    "- slicing\n",
    "- finding the length\n",
    "- concatenation"
   ]
  },
  {
   "cell_type": "code",
   "execution_count": null,
   "metadata": {
    "collapsed": true
   },
   "outputs": [],
   "source": [
    "## CODE CELL 48\n",
    "# Creating a list of the top 40 U.S. cities by population\n",
    "\n",
    "topcities = ['New York', 'Los Angeles', 'Chicago', 'Houston', 'Philadelphia', 'Phoenix', 'San Antonio', 'San Diego',\n",
    "         'Dallas', 'San Jose', 'Austin', 'Jacksonville', 'San Francisco', 'Indianapolis', 'Columbus', 'Fort Worth',\n",
    "         'Charlotte', 'Seattle', 'Denver', 'El Paso', 'Detroit', 'Washington', 'Boston', 'Memphis', 'Nashville', 'Portland',\n",
    "         'Oklahoma City', 'Las Vegas', 'Baltimore', 'Louisville', 'Milwaukee', 'Albuquerque', 'Tucson', 'Fresno', 'Sacramento',\n",
    "         'Kansas City', 'Long Beach', 'Mesa', 'Atlanta', 'Colorado Springs']\n",
    "print(topcities)"
   ]
  },
  {
   "cell_type": "code",
   "execution_count": null,
   "metadata": {
    "collapsed": true
   },
   "outputs": [],
   "source": [
    "## CODE CELL 49\n",
    "# Which is the 5th most populous city?\n",
    "\n",
    "topcities[4]"
   ]
  },
  {
   "cell_type": "code",
   "execution_count": null,
   "metadata": {
    "collapsed": true
   },
   "outputs": [],
   "source": [
    "## CODE CELL 50\n",
    "# Which cities are ranked #11-#20?\n",
    "\n",
    "topcities[10:20]"
   ]
  },
  {
   "cell_type": "code",
   "execution_count": null,
   "metadata": {
    "collapsed": true
   },
   "outputs": [],
   "source": [
    "## CODE CELL 51\n",
    "# Are there really 40 cities in the list?\n",
    "\n",
    "len(topcities)"
   ]
  },
  {
   "cell_type": "code",
   "execution_count": null,
   "metadata": {
    "collapsed": true
   },
   "outputs": [],
   "source": [
    "## CODE CELL 52\n",
    "# Let's add the next 5 cities to topcities\n",
    "\n",
    "cities41to45 = ['Virginia Beach', 'Raleigh', 'Omaha', 'Miami', 'Oakland']\n",
    "topcities + cities41to45"
   ]
  },
  {
   "cell_type": "markdown",
   "metadata": {},
   "source": [
    "However, **lists, unlike strings, are mutable** - their identities can be changed in-place without creating a new list."
   ]
  },
  {
   "cell_type": "code",
   "execution_count": null,
   "metadata": {
    "collapsed": true
   },
   "outputs": [],
   "source": [
    "## CODE CELL 53\n",
    "# Another way to add multiple items to the list is to use the \"extend\" method\n",
    "\n",
    "topcities.extend(cities41to45)\n",
    "len(topcities)\n",
    "#print(topcities)"
   ]
  },
  {
   "cell_type": "code",
   "execution_count": null,
   "metadata": {
    "collapsed": true
   },
   "outputs": [],
   "source": [
    "## CODE CELL 54\n",
    "# You can also add items one at a time using the \"append\" method\n",
    "\n",
    "topcities.append('Minneapolis')\n",
    "topcities[-2:]   # let's just look at the end of the list"
   ]
  },
  {
   "cell_type": "code",
   "execution_count": null,
   "metadata": {
    "collapsed": true
   },
   "outputs": [],
   "source": [
    "## CODE CELL 55\n",
    "# Is Orlando in the list?\n",
    "\n",
    "'Orlando' in topcities"
   ]
  },
  {
   "cell_type": "code",
   "execution_count": null,
   "metadata": {
    "collapsed": true
   },
   "outputs": [],
   "source": [
    "## CODE CELL 56\n",
    "# Is Dallas in the list?\n",
    "\n",
    "'Dallas' in topcities"
   ]
  },
  {
   "cell_type": "code",
   "execution_count": null,
   "metadata": {
    "collapsed": true
   },
   "outputs": [],
   "source": [
    "## CODE CELL 57\n",
    "# Which position is Dallas in?\n",
    "\n",
    "topcities.index('Dallas')"
   ]
  },
  {
   "cell_type": "code",
   "execution_count": null,
   "metadata": {
    "collapsed": true
   },
   "outputs": [],
   "source": [
    "## CODE CELL 58\n",
    "# Let's get the list in alphabetical order\n",
    "\n",
    "topcities.sort()\n",
    "topcities[:10]   # just looking at the first 10 to verify sorting"
   ]
  },
  {
   "cell_type": "code",
   "execution_count": null,
   "metadata": {
    "collapsed": true
   },
   "outputs": [],
   "source": [
    "## CODE CELL 59\n",
    "# Sorting also works on numbers\n",
    "\n",
    "newList = [3,53,7,768,7,4,563]\n",
    "newList.sort()\n",
    "newList"
   ]
  },
  {
   "cell_type": "markdown",
   "metadata": {},
   "source": [
    "You can even create a list of lists."
   ]
  },
  {
   "cell_type": "code",
   "execution_count": null,
   "metadata": {
    "collapsed": true
   },
   "outputs": [],
   "source": [
    "## CODE CELL 60\n",
    "# Indexing with a list of lists\n",
    "\n",
    "nestedList = [[1,2,3],[2,4,6],[3,6,9],[4,8,12]]\n",
    "print(nestedList[0])"
   ]
  },
  {
   "cell_type": "code",
   "execution_count": null,
   "metadata": {
    "collapsed": true
   },
   "outputs": [],
   "source": [
    "## CODE CELL 61\n",
    "# Accessing a single element in a sublist\n",
    "\n",
    "print(nestedList[0][2])"
   ]
  },
  {
   "cell_type": "code",
   "execution_count": null,
   "metadata": {
    "collapsed": true
   },
   "outputs": [],
   "source": [
    "## CODE CELL 62\n",
    "# Slicing\n",
    "\n",
    "print(nestedList[:2])"
   ]
  },
  {
   "cell_type": "markdown",
   "metadata": {},
   "source": [
    "There's a lot you can do with lists. A brief overview can be found here: https://www.tutorialspoint.com/python/python_lists.htm; full documentation can be found at the official Python documentation page."
   ]
  },
  {
   "cell_type": "markdown",
   "metadata": {
    "collapsed": true
   },
   "source": [
    "**Exercise 2:**\n",
    "\n",
    "You have a class of students whose scores on the last exam were as follows: 89, 79, 83, 85, 95, 50, 77, 90, 100, 91, 69, 87, 93, 88. Find the median score by taking the average of the two \"middle\" scores. \n",
    "\n",
    "*Hint: First, sort the scores. To find the locations of the \"middle\" scores, first determine the number of scores you're dealing with using the len() function.*"
   ]
  },
  {
   "cell_type": "markdown",
   "metadata": {},
   "source": [
    "**Answer 2:**"
   ]
  },
  {
   "cell_type": "code",
   "execution_count": null,
   "metadata": {
    "collapsed": true
   },
   "outputs": [],
   "source": [
    "## CODE CELL 63\n",
    "\n",
    "scores = [89, 79, 83, 85, 95, 50, 77, 90, 100, 91, 69, 87, 93, 88]\n",
    "\n",
    "## ENTER CODE HERE \n"
   ]
  },
  {
   "cell_type": "markdown",
   "metadata": {
    "collapsed": true
   },
   "source": [
    "*Note:*\n",
    "\n",
    "Jupyter Notebook is a more interactive environment, and that means that you can get away with just typing the name of a variable and running the cell to get the value stored in that variable as output. If you're writing code in a script (e.g. a .py file such as those created in the IDLE or Spyder Python environments), you will need to use the `print()` function to explicitly show the \"contents\" of the variable."
   ]
  },
  {
   "cell_type": "markdown",
   "metadata": {},
   "source": [
    "*References*:\n",
    "\n",
    "The following materials were consulted during development of this notebook:\n",
    "\n",
    "J. Zelle, *Python Programming: An Introduction to Computer Science*, 2nd ed. Sherwood, Oregon: Franklin, Beedle & Associates Inc., 2010.\n",
    "\n",
    "Python 3 Documentation from the Python Software Foundation: https://docs.python.org/3/"
   ]
  },
  {
   "cell_type": "code",
   "execution_count": null,
   "metadata": {
    "collapsed": true
   },
   "outputs": [],
   "source": []
  }
 ],
 "metadata": {
  "kernelspec": {
   "display_name": "Python 3",
   "language": "python",
   "name": "python3"
  },
  "language_info": {
   "codemirror_mode": {
    "name": "ipython",
    "version": 3
   },
   "file_extension": ".py",
   "mimetype": "text/x-python",
   "name": "python",
   "nbconvert_exporter": "python",
   "pygments_lexer": "ipython3",
   "version": "3.6.4"
  }
 },
 "nbformat": 4,
 "nbformat_minor": 2
}
