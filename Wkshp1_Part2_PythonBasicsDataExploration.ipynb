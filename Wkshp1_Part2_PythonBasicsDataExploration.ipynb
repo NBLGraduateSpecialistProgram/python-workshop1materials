{
 "cells": [
  {
   "cell_type": "markdown",
   "metadata": {},
   "source": [
    "## Now the real fun begins..."
   ]
  },
  {
   "cell_type": "markdown",
   "metadata": {},
   "source": [
    "Before we start playing with data files, we need to cover one more really important section."
   ]
  },
  {
   "cell_type": "markdown",
   "metadata": {},
   "source": [
    "### Loops, conditionals, and functions"
   ]
  },
  {
   "cell_type": "markdown",
   "metadata": {},
   "source": [
    "If you have used a progamming language before, you're probably familiar with the for-loop. For everyone else, a for-loop is a way of iterating through a data structure - a string, a list, a dictionary, etc. - or file. It's a way to execute the same piece of code multiple times with a parameter being updated on every iteration."
   ]
  },
  {
   "cell_type": "code",
   "execution_count": null,
   "metadata": {
    "collapsed": true
   },
   "outputs": [],
   "source": [
    "## CODE CELL 1\n",
    "# The go-to first example of a for-loop\n",
    "\n",
    "for i in [1, 2, 3, 4, 5, 6, 7, 8, 9, 10]:\n",
    "    print(i)"
   ]
  },
  {
   "cell_type": "markdown",
   "metadata": {},
   "source": [
    "The `range()` function is useful here. It can be given up to three parameters: $([start], stop[, step])$ (brackets indicate optional parameters). As with slicing in strings and lists, the loop will stop at $stop-1$."
   ]
  },
  {
   "cell_type": "code",
   "execution_count": null,
   "metadata": {
    "collapsed": true
   },
   "outputs": [],
   "source": [
    "## CODE CELL 2\n",
    "# Do the above more efficiently using the \"range\" function:\n",
    "\n",
    "for i in range(1,11):\n",
    "    print(i)"
   ]
  },
  {
   "cell_type": "markdown",
   "metadata": {},
   "source": [
    "You may be wondering why we chose the letter \"i\" to iterate through the lists above. The answer is that it's just convention - letters like \"i\" and \"j\" are often used for iteration, but in practice, you can use any letters, letter + number combinations, or even an underscore."
   ]
  },
  {
   "cell_type": "markdown",
   "metadata": {},
   "source": [
    "One common use of a for-loop is to iteratively append elements to a list."
   ]
  },
  {
   "cell_type": "code",
   "execution_count": null,
   "metadata": {
    "collapsed": true
   },
   "outputs": [],
   "source": [
    "## CODE CELL 3\n",
    "# What are the first ten multiples of 3?\n",
    "\n",
    "multiples = []    # initializing list\n",
    "for i in range(1,11):\n",
    "    multiples.append(3*i)\n",
    "\n",
    "print(multiples)"
   ]
  },
  {
   "cell_type": "markdown",
   "metadata": {},
   "source": [
    "You can also use multiple layers of loops (called \"nested loops\")."
   ]
  },
  {
   "cell_type": "code",
   "execution_count": null,
   "metadata": {
    "collapsed": true
   },
   "outputs": [],
   "source": [
    "## CODE CELL 4\n",
    "# What are the first five multiples of numbers 10-14?\n",
    "\n",
    "for i in range(10,15):\n",
    "    myList = []\n",
    "    for j in range(1,6):\n",
    "        myList.append(i*j)\n",
    "    print(myList)"
   ]
  },
  {
   "cell_type": "markdown",
   "metadata": {},
   "source": [
    "As you begin writing more complex code, you may find it helpful to use this step-by-step visualization tool: http://pythontutor.com/visualize.html#. (DEMO)"
   ]
  },
  {
   "cell_type": "markdown",
   "metadata": {},
   "source": [
    "What if we want to control what code gets executed based on certain conditions? That's where conditional statements come in. Let's look at some operators you'll likely use:"
   ]
  },
  {
   "cell_type": "code",
   "execution_count": null,
   "metadata": {
    "collapsed": true
   },
   "outputs": [],
   "source": [
    "## CODE CELL 5\n",
    "\n",
    "print(3 < 4)    # less than"
   ]
  },
  {
   "cell_type": "code",
   "execution_count": null,
   "metadata": {
    "collapsed": true
   },
   "outputs": [],
   "source": [
    "## CODE CELL 6\n",
    "\n",
    "print(4 <= 4)    # less than or equal to"
   ]
  },
  {
   "cell_type": "code",
   "execution_count": null,
   "metadata": {
    "collapsed": true
   },
   "outputs": [],
   "source": [
    "## CODE CELL 7\n",
    "\n",
    "print('a' == 'A')    # equal to"
   ]
  },
  {
   "cell_type": "code",
   "execution_count": null,
   "metadata": {
    "collapsed": true
   },
   "outputs": [],
   "source": [
    "## CODE CELL 8\n",
    "\n",
    "print(4 != 4)    # not equal to"
   ]
  },
  {
   "cell_type": "code",
   "execution_count": null,
   "metadata": {
    "collapsed": true
   },
   "outputs": [],
   "source": [
    "## CODE CELL 9\n",
    "\n",
    "print(2 >= 10)     # greater than or equal to"
   ]
  },
  {
   "cell_type": "code",
   "execution_count": null,
   "metadata": {
    "collapsed": true
   },
   "outputs": [],
   "source": [
    "## CODE CELL 10\n",
    "\n",
    "print('a' > 'A')    # greater than"
   ]
  },
  {
   "cell_type": "markdown",
   "metadata": {},
   "source": [
    "You may have noticed some unexpected behavior. When comparing strings, these operators indicate how Python sorts them lexicographically - 'a', 'b', etc. come *after* 'A', 'B', etc."
   ]
  },
  {
   "cell_type": "markdown",
   "metadata": {},
   "source": [
    "The return values of True/False are called \"Booleans\". These are actual values that can be assigned to a variable:"
   ]
  },
  {
   "cell_type": "code",
   "execution_count": null,
   "metadata": {
    "collapsed": true
   },
   "outputs": [],
   "source": [
    "## CODE CELL 11\n",
    "\n",
    "var = True\n",
    "new_var = False\n",
    "\n",
    "print('var:', var, '\\nnew_var:', new_var)"
   ]
  },
  {
   "cell_type": "markdown",
   "metadata": {},
   "source": [
    "In Part 1, we saw another case where the result was a Boolean; we were checking if \"Orlando\" was in the $topcities$ list. The `in` and `not in` membership checks return True or False."
   ]
  },
  {
   "cell_type": "markdown",
   "metadata": {},
   "source": [
    "Now, we can implement some of these comparisons in what's called an if-else statement. The gist of it is this: if {some condition}, execute some code; for all other cases, execute some other code."
   ]
  },
  {
   "cell_type": "code",
   "execution_count": null,
   "metadata": {
    "collapsed": true
   },
   "outputs": [],
   "source": [
    "## CODE CELL 12\n",
    "# On which days could we potentially have a picnic?\n",
    "\n",
    "forecast7Day = ['rain', 'mostly cloudy', 'rain', 'mostly cloudy', 'sunny', 'partly cloudy', 'rain']\n",
    "picnic = []\n",
    "for i in forecast7Day:\n",
    "    if i == 'rain':\n",
    "        picnic.append('no')\n",
    "    else:\n",
    "        picnic.append('yes')\n",
    "        \n",
    "print(picnic)"
   ]
  },
  {
   "cell_type": "markdown",
   "metadata": {},
   "source": [
    "We can include more \"options\" by incorporating \"elif\" statements."
   ]
  },
  {
   "cell_type": "code",
   "execution_count": null,
   "metadata": {
    "collapsed": true
   },
   "outputs": [],
   "source": [
    "## CODE CELL 13\n",
    "# How many layers do I need to wear for the next few days?\n",
    "\n",
    "forecastTemps = [50, 59, 72, 74, 60, 62, 63]\n",
    "layers = []\n",
    "for i in forecastTemps:\n",
    "    if i < 60:\n",
    "        layers.append('wear a jacket')\n",
    "    elif i >= 70:\n",
    "        layers.append(\"don't need a jacket or sweater\")\n",
    "    else:\n",
    "        layers.append('wear a sweater')\n",
    "\n",
    "print(layers)"
   ]
  },
  {
   "cell_type": "markdown",
   "metadata": {},
   "source": [
    "You can incorporate as many elif statements as you'd like."
   ]
  },
  {
   "cell_type": "markdown",
   "metadata": {},
   "source": [
    "One last type of control structure - the while-loop. The general structure is the following: while {some condition}, execute some code. Iteration will continue until that condition is no longer true."
   ]
  },
  {
   "cell_type": "code",
   "execution_count": null,
   "metadata": {
    "collapsed": true
   },
   "outputs": [],
   "source": [
    "## CODE CELL 14\n",
    "# Using up a gift card\n",
    "\n",
    "balance = 110     # initial balance = $110\n",
    "while balance - 20 >= 0:\n",
    "    print('Your balance is now $' + str(balance))\n",
    "    balance -= 20    # using up $20 for each purchase\n",
    "print('Final balance: $' + str(balance))"
   ]
  },
  {
   "cell_type": "markdown",
   "metadata": {},
   "source": [
    "Finally, functions. Functions are extremely useful for when you want to execute a section of code repeatedly, but with parameters (called \"arguments\") for which values can be defined when the function is called. Functions are defined with `def` and then a user-provided name."
   ]
  },
  {
   "cell_type": "code",
   "execution_count": null,
   "metadata": {
    "collapsed": true
   },
   "outputs": [],
   "source": [
    "## CODE CELL 15\n",
    "# A function to generalize the gift card code in the previous example\n",
    "\n",
    "def giftCard(init_balance, purchase_size):    # this function has two arguments\n",
    "    balance = init_balance\n",
    "    while balance - purchase_size >= 0:\n",
    "        print('Your balance is now $' + str(balance))\n",
    "        balance -= purchase_size\n",
    "    return 'Final balance: $' + str(balance)"
   ]
  },
  {
   "cell_type": "markdown",
   "metadata": {},
   "source": [
    "What happened when you ran the previous cell?\n",
    "\n",
    "In order to use the function, we have to call it."
   ]
  },
  {
   "cell_type": "code",
   "execution_count": null,
   "metadata": {
    "collapsed": true
   },
   "outputs": [],
   "source": [
    "## CODE CELL 16\n",
    "# Calling the giftCard function\n",
    "\n",
    "newCard = giftCard(200, 50)    # initial balance = $200, purchase_size = $50\n",
    "print(newCard)   "
   ]
  },
  {
   "cell_type": "markdown",
   "metadata": {},
   "source": [
    "Try calling `giftCard()` with different parameters.\n",
    "\n",
    "Question to ponder/research: What happens when you replace the \"return\" statement with a \"print\" statement like the one in the non-function version of this code? What's the difference between a print statement and a return statement in a function?"
   ]
  },
  {
   "cell_type": "markdown",
   "metadata": {},
   "source": [
    "**Exercise 3:**\n",
    "\n",
    "How many words are in the first sentence of Charles Dickens's *Oliver Twist*? How many times does the word \"which\" appear?\n",
    "\n",
    "*Hint: The punctuation characters in this paragraph are given in the remove_punc list. Think about using the `replace` and `split` string methods from Part 1 of the workshop to get a list of words without punctuation.*"
   ]
  },
  {
   "cell_type": "markdown",
   "metadata": {},
   "source": [
    "**Answer 3:**"
   ]
  },
  {
   "cell_type": "code",
   "execution_count": null,
   "metadata": {
    "collapsed": true
   },
   "outputs": [],
   "source": [
    "## CODE CELL 17\n",
    "\n",
    "oliverT = '''Among other public buildings in a certain town, which for many reasons\n",
    "it will be prudent to refrain from mentioning, and to which I will\n",
    "assign no fictitious name, there is one anciently common to most towns,\n",
    "great or small: to wit, a workhouse; and in this workhouse was born; on\n",
    "a day and date which I need not trouble myself to repeat, inasmuch as\n",
    "it can be of no possible consequence to the reader, in this stage of\n",
    "the business at all events; the item of mortality whose name is\n",
    "prefixed to the head of this chapter.'''\n",
    "\n",
    "remove_punc = [',', ':', ';', '.']\n",
    "\n",
    "## ENTER CODE HERE\n",
    "\n"
   ]
  },
  {
   "cell_type": "markdown",
   "metadata": {},
   "source": [
    "*Note:* For a larger text where it would be prohibitive to create a list of all possible punctuation characters for removal, consider using the NLTK library as per the top response here: https://stackoverflow.com/questions/21361073/tokenize-words-in-a-list-of-sentences-python. Alternatively, you can use the re library for regular expressions: https://docs.python.org/3/howto/regex.html#splitting-strings."
   ]
  },
  {
   "cell_type": "markdown",
   "metadata": {},
   "source": [
    "### Introduction to pandas"
   ]
  },
  {
   "cell_type": "markdown",
   "metadata": {
    "collapsed": true
   },
   "source": [
    "The last part of this workshop is a quick introduction to pandas. The pandas library is a popular data science library which allows fast access to and analysis of structured data. It's often used for tabular data which gets converted into a 2D data structure (rows x columns) called a DataFrame.\n",
    "\n",
    "For this section, we'll be working with a dataset from Kaggle called \"Foodborne Disease Outbreaks, 1998-2015\". This file contains data from the CDC's electronic Foodborne Outbreak Reporting System (eFORS). More information can be found here: https://www.kaggle.com/cdc/foodborne-diseases"
   ]
  },
  {
   "cell_type": "markdown",
   "metadata": {},
   "source": [
    "Let's start by importing the pandas library."
   ]
  },
  {
   "cell_type": "code",
   "execution_count": null,
   "metadata": {
    "collapsed": true
   },
   "outputs": [],
   "source": [
    "## CODE CELL 18\n",
    "\n",
    "import pandas as pd"
   ]
  },
  {
   "cell_type": "markdown",
   "metadata": {
    "collapsed": true
   },
   "source": [
    "We can read the CSV file \"outbreaks.csv\" in as a DataFrame for easier manipulation."
   ]
  },
  {
   "cell_type": "code",
   "execution_count": null,
   "metadata": {
    "collapsed": true
   },
   "outputs": [],
   "source": [
    "## CODE CELL 19\n",
    "\n",
    "df = pd.read_csv('outbreaks.csv')\n",
    "df"
   ]
  },
  {
   "cell_type": "markdown",
   "metadata": {},
   "source": [
    "For convenience, pandas DataFrames have methods called `head()` and `tail()` which display the first few or last few rows, respectively (default # of rows = 5)."
   ]
  },
  {
   "cell_type": "code",
   "execution_count": null,
   "metadata": {
    "collapsed": true
   },
   "outputs": [],
   "source": [
    "## CODE CELL 20\n",
    "\n",
    "df.head()"
   ]
  },
  {
   "cell_type": "code",
   "execution_count": null,
   "metadata": {
    "collapsed": true
   },
   "outputs": [],
   "source": [
    "## CODE CELL 21\n",
    "# Showing the last 10 rows\n",
    "\n",
    "df.tail(10)"
   ]
  },
  {
   "cell_type": "markdown",
   "metadata": {},
   "source": [
    "What are all the column names in this table?"
   ]
  },
  {
   "cell_type": "code",
   "execution_count": null,
   "metadata": {
    "collapsed": true
   },
   "outputs": [],
   "source": [
    "## CODE CELL 22\n",
    "\n",
    "df.columns"
   ]
  },
  {
   "cell_type": "markdown",
   "metadata": {},
   "source": [
    "How many rows/columns are in this table?"
   ]
  },
  {
   "cell_type": "code",
   "execution_count": null,
   "metadata": {
    "collapsed": true
   },
   "outputs": [],
   "source": [
    "## CODE CELL 23\n",
    "\n",
    "df.shape"
   ]
  },
  {
   "cell_type": "markdown",
   "metadata": {},
   "source": [
    "You can get this information along with information about the data types present using the `info()` method."
   ]
  },
  {
   "cell_type": "code",
   "execution_count": null,
   "metadata": {
    "collapsed": true
   },
   "outputs": [],
   "source": [
    "## CODE CELL 24\n",
    "\n",
    "df.info()"
   ]
  },
  {
   "cell_type": "markdown",
   "metadata": {},
   "source": [
    "We can get summary statistics of the columns with numerical data using the `describe()` method."
   ]
  },
  {
   "cell_type": "code",
   "execution_count": null,
   "metadata": {
    "collapsed": true
   },
   "outputs": [],
   "source": [
    "## CODE CELL 25\n",
    "\n",
    "df.describe()"
   ]
  },
  {
   "cell_type": "markdown",
   "metadata": {},
   "source": [
    "What \"species\" were responsible for outbreaks over the course of the years covered in this dataset?"
   ]
  },
  {
   "cell_type": "code",
   "execution_count": null,
   "metadata": {
    "collapsed": true
   },
   "outputs": [],
   "source": [
    "## CODE CELL 26\n",
    "\n",
    "df['Species'].unique()"
   ]
  },
  {
   "cell_type": "markdown",
   "metadata": {},
   "source": [
    "What if we want to only deal with outbreaks that happened in New Jersey?"
   ]
  },
  {
   "cell_type": "code",
   "execution_count": null,
   "metadata": {
    "collapsed": true
   },
   "outputs": [],
   "source": [
    "## CODE CELL 27\n",
    "\n",
    "df[df['State'] == 'New Jersey']"
   ]
  },
  {
   "cell_type": "markdown",
   "metadata": {},
   "source": [
    "Subsets of DataFrames can be assigned to variables, just as DataFrames can be assigned to variables:"
   ]
  },
  {
   "cell_type": "code",
   "execution_count": null,
   "metadata": {
    "collapsed": true
   },
   "outputs": [],
   "source": [
    "## CODE CELL 28\n",
    "\n",
    "nj = df[df['State'] == 'New Jersey']\n",
    "nj.head()"
   ]
  },
  {
   "cell_type": "markdown",
   "metadata": {},
   "source": [
    "We can choose to only look at certain columns in the DataFrame:"
   ]
  },
  {
   "cell_type": "code",
   "execution_count": null,
   "metadata": {
    "collapsed": true
   },
   "outputs": [],
   "source": [
    "## CODE CELL 29\n",
    "\n",
    "df[['Year', 'Illnesses']].head(10)"
   ]
  },
  {
   "cell_type": "markdown",
   "metadata": {},
   "source": [
    "What if we only want to focus on certain rows?"
   ]
  },
  {
   "cell_type": "code",
   "execution_count": null,
   "metadata": {
    "collapsed": true
   },
   "outputs": [],
   "source": [
    "## CODE CELL 30\n",
    "\n",
    "df[10:20]"
   ]
  },
  {
   "cell_type": "markdown",
   "metadata": {},
   "source": [
    "We can also sort the rows by a chosen column. What were the top 5 outbreaks in terms of fatalities?"
   ]
  },
  {
   "cell_type": "code",
   "execution_count": null,
   "metadata": {
    "collapsed": true
   },
   "outputs": [],
   "source": [
    "## CODE CELL 31\n",
    "\n",
    "df.sort_values(by='Fatalities', ascending=False).head()"
   ]
  },
  {
   "cell_type": "markdown",
   "metadata": {},
   "source": [
    "How many outbreaks occurred each year?"
   ]
  },
  {
   "cell_type": "code",
   "execution_count": null,
   "metadata": {
    "collapsed": true
   },
   "outputs": [],
   "source": [
    "## CODE CELL 32\n",
    "\n",
    "df.groupby('Year').size()"
   ]
  },
  {
   "cell_type": "markdown",
   "metadata": {},
   "source": [
    "We can quickly plot this using the matplotlib library."
   ]
  },
  {
   "cell_type": "code",
   "execution_count": null,
   "metadata": {
    "collapsed": true
   },
   "outputs": [],
   "source": [
    "## CODE CELL 33\n",
    "# \"Magic\" command below allows you to see plot in the notebook\n",
    "\n",
    "%matplotlib inline    "
   ]
  },
  {
   "cell_type": "code",
   "execution_count": null,
   "metadata": {
    "collapsed": true,
    "scrolled": true
   },
   "outputs": [],
   "source": [
    "## CODE CELL 34\n",
    "\n",
    "df.groupby('Year').size().plot(kind='bar')"
   ]
  },
  {
   "cell_type": "markdown",
   "metadata": {
    "collapsed": true
   },
   "source": [
    "**Exercise 4:**\n",
    "\n",
    "How many outbreaks occurred for each Food type listed in the dataset between 2010 and 2012? Sort these in descending order by number of outbreaks for each Food type, and plot the top 10 foods which were associated with outbreaks.\n",
    "\n",
    "*Hint: To subset a DataFrame with a compound conditional, use the \"&\" character for AND and the \"|\" pipe character for OR. For example, if you want the subset where Col1 == 1 and Col2 == 2, you could use the following: df[(df['Col1']==1) & (df['Col2']==2)]. *"
   ]
  },
  {
   "cell_type": "markdown",
   "metadata": {},
   "source": [
    "**Answer 4:**"
   ]
  },
  {
   "cell_type": "code",
   "execution_count": null,
   "metadata": {
    "collapsed": true
   },
   "outputs": [],
   "source": [
    "## CODE CELL 35\n",
    "\n",
    "## ENTER CODE HERE\n"
   ]
  },
  {
   "cell_type": "markdown",
   "metadata": {
    "collapsed": true
   },
   "source": [
    "## Post-workshop exercise"
   ]
  },
  {
   "cell_type": "markdown",
   "metadata": {},
   "source": [
    "**Top 50 cities**\n",
    "\n",
    "One of the files you downloaded from the GitHub repository is called \"top50cities.txt\". The file includes the rank, city name, and population size for each of the top 50 largest cities in the United States. Read this file into your Python working environment and output a new file showing only the city names, with one city per line. For pointers on how to read and write files in Python, check out this link: http://www.pythonforbeginners.com/files/reading-and-writing-files-in-python. One possible solution is provided in the script \"top50cities_solution.py\" which is also in the folder you downloaded from the repository."
   ]
  },
  {
   "cell_type": "markdown",
   "metadata": {
    "collapsed": true
   },
   "source": [
    "*References:*\n",
    "\n",
    "The following materials were consulted during development of this notebook:\n",
    "\n",
    "B. Rhodes, *PyCon Pandas Tutorial*, (2015), GitHub repository, https://github.com/brandon-rhodes/pycon-pandas-tutorial."
   ]
  },
  {
   "cell_type": "code",
   "execution_count": null,
   "metadata": {
    "collapsed": true
   },
   "outputs": [],
   "source": []
  }
 ],
 "metadata": {
  "kernelspec": {
   "display_name": "Python 3",
   "language": "python",
   "name": "python3"
  },
  "language_info": {
   "codemirror_mode": {
    "name": "ipython",
    "version": 3
   },
   "file_extension": ".py",
   "mimetype": "text/x-python",
   "name": "python",
   "nbconvert_exporter": "python",
   "pygments_lexer": "ipython3",
   "version": "3.6.4"
  }
 },
 "nbformat": 4,
 "nbformat_minor": 2
}
